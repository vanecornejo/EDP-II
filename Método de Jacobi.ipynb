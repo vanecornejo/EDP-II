{
  "nbformat": 4,
  "nbformat_minor": 0,
  "metadata": {
    "colab": {
      "provenance": [],
      "authorship_tag": "ABX9TyOOv4MBwQi2ZNpiMUFdPEeS",
      "include_colab_link": true
    },
    "kernelspec": {
      "name": "python3",
      "display_name": "Python 3"
    },
    "language_info": {
      "name": "python"
    }
  },
  "cells": [
    {
      "cell_type": "markdown",
      "metadata": {
        "id": "view-in-github",
        "colab_type": "text"
      },
      "source": [
        "<a href=\"https://colab.research.google.com/github/vanecornejo/EDP-II/blob/main/M%C3%A9todo%20de%20Jacobi.ipynb\" target=\"_parent\"><img src=\"https://colab.research.google.com/assets/colab-badge.svg\" alt=\"Open In Colab\"/></a>"
      ]
    },
    {
      "cell_type": "markdown",
      "source": [
        "#**Método de Jacobi**\n",
        "\n",
        "El método de Jacobi es una técnica iterativa que sirve para encontrar soluciones aproximadas a sistemas de ecuaciones lineales del tipo $Ax=b$, despejando cada incógnita de su respectiva ecuación y generando una secuencia de aproximaciones hasta alcanzar la precisión deseada.\n",
        "\n",
        "Este programa implementa el método de Jacobi para resolver el sistema\n",
        "de ecuaciones lineales resultante de hacer la ecuación de Laplace\n",
        "con condiciones de frontera\n"
      ],
      "metadata": {
        "id": "Lx0x_HI1Uwyn"
      }
    },
    {
      "cell_type": "markdown",
      "source": [
        "Implementando el código al primer ejercicio del problemario:\n",
        "\n",
        "Queremos aproximar la solución de la ecuación de Laplace en la región\n",
        "$$ 0 \\leq x \\leq 2, \\quad 0 \\leq y \\leq 2 $$\n",
        "con condiciones de frontera dadas:\n",
        "\n",
        "- En los bordes verticales:\n",
        "$$ u(0,y) = 0, \\quad u(2,y) = y(2-y), \\quad 0 < y < 2 $$\n",
        "\n",
        "- En los bordes horizontales:\n",
        "$$\n",
        "u(x,0) = 0, \\quad\n",
        "u(x,2) =\n",
        "\\begin{cases}\n",
        "x, & 0 < x < 1 \\\\\n",
        "2-x, & 1 \\leq x < 2\n",
        "\\end{cases}\n",
        "$$\n",
        "\n",
        "Usamos una malla de tamaño $ h = \\frac{2}{3} $.  \n",
        "Esto significa que los puntos interiores están en:\n",
        "$$\n",
        "x = \\tfrac{2}{3}, \\tfrac{4}{3}, \\quad\n",
        "y = \\tfrac{2}{3}, \\tfrac{4}{3}.\n",
        "$$\n",
        "\n",
        "Es decir, tenemos\n",
        "\n",
        "$$\n",
        "u_1 = u\\!\\left(\\tfrac{2}{3}, \\tfrac{2}{3}\\right), \\quad\n",
        "u_2 = u\\!\\left(\\tfrac{4}{3}, \\tfrac{2}{3}\\right), \\quad\n",
        "u_3 = u\\!\\left(\\tfrac{2}{3}, \\tfrac{4}{3}\\right), \\quad\n",
        "u_4 = u\\!\\left(\\tfrac{4}{3}, \\tfrac{4}{3}\\right).\n",
        "$$\n",
        "\n",
        "## Sistema de ecuaciones\n",
        "De la fórmula de Laplace:\n",
        "\n",
        "$$ u_{i,j} = \\frac{1}{4}\\big(u_{i+1,j} + u_{i-1,j} + u_{i,j+1} + u_{i,j-1}\\big) $$\n",
        "\n",
        "y aplicando las condiciones de frontera, obtenemos:\n",
        "\n",
        "$$\n",
        "\\begin{aligned}\n",
        "u_1 &= \\tfrac{1}{4}(u_2 + u_3), \\\\[6pt]\n",
        "u_2 &= \\tfrac{1}{4}(u_1 + u_4 + \\tfrac{8}{9}), \\\\[6pt]\n",
        "u_3 &= \\tfrac{1}{4}(u_1 + u_4 + \\tfrac{2}{3}), \\\\[6pt]\n",
        "u_4 &= \\tfrac{1}{4}(u_2 + u_3 + \\tfrac{14}{9}).\n",
        "\\end{aligned}\n",
        "$$"
      ],
      "metadata": {
        "id": "1ZZVpPDUd0S8"
      }
    },
    {
      "cell_type": "code",
      "source": [
        "# Importamos las librerías necesarias\n",
        "import numpy as np\n",
        "import pandas as pd"
      ],
      "metadata": {
        "id": "E9GNBR19Y9PX"
      },
      "execution_count": 43,
      "outputs": []
    },
    {
      "cell_type": "markdown",
      "source": [
        "Vamos a definir una función llamada jacobi, donde vamos a tener como entradas:\n",
        "*   La matriz $A$ (nxn)\n",
        "*   El vector $b$ (n)\n",
        "*   La aproximación lineal $x0$\n",
        "*   La tolerancia $Tol$\n",
        "*   Número máximo de iteraciones $N$\n",
        "\n",
        "Y nuestras salidas serán:\n",
        "\n",
        "*   (x, tabla, exito)\n",
        "*   x -> Vector con la solución aproximada $x$\n",
        "*   tabla -> DataFrame con las iteraciones, variables y error\n",
        "*   exito -> True si converge, False si alcanza N iteraciones sin converger"
      ],
      "metadata": {
        "id": "DLk8SnBPY07D"
      }
    },
    {
      "cell_type": "code",
      "source": [
        "def jacobi(A, b, x0, tol, N):\n",
        "    n = len(A)\n",
        "\n",
        "    # Guardamos el vector inicial\n",
        "    XO = np.array(x0, dtype=float)\n",
        "\n",
        "    # Creamos una lista donde vamos a guardar los resultados de cada iteración\n",
        "    resultados = []\n",
        "\n",
        "    k = 1 # Contador de iteraciones\n",
        "    while k <= N:\n",
        "        x1 = np.zeros_like(XO)  # Para la nueva aproximación\n",
        "\n",
        "        # Calculamos la nueva aproximación\n",
        "        for i in range(n):\n",
        "\n",
        "            # Calculamos la suma de a_ij * x_j para j distinto de i\n",
        "            suma = sum(A[i][j]*XO[j] for j in range(n) if j != i)\n",
        "\n",
        "            # Fórmula de Jacobi: x_i = (b_i - suma)/a_ii\n",
        "            x1[i] = (b[i] - suma)/A[i][i]\n",
        "\n",
        "        # Calculamos el error ||x - XO||\n",
        "        error = np.linalg.norm(x1 - XO, ord=np.inf)\n",
        "\n",
        "        # Guardamos los resultados de esta iteración en la lista creada anteriormente\n",
        "        resultados.append([k] + list(x1) + [error])\n",
        "\n",
        "        if error < tol:\n",
        "            # Creamos un DataFrame con los resultados en forma de tabla\n",
        "            df = pd.DataFrame(resultados, columns=[\"Iteración\"] + [f\"u{i+1}\" for i in range(n)] + [\"Error\"])\n",
        "            return x1, df, True\n",
        "\n",
        "        # Actualizamos XO para la siguiente iteración\n",
        "        XO = x1\n",
        "        k += 1\n",
        "\n",
        "    # Si llegamos aquí, significa que no convergió en N iteraciones\n",
        "    df = pd.DataFrame(resultados, columns=[\"Iteración\"] + [f\"u{i+1}\" for i in range(n)] + [\"Error\"])\n",
        "    return XO, df, False"
      ],
      "metadata": {
        "id": "L4BaL4I9hqOn"
      },
      "execution_count": 44,
      "outputs": []
    },
    {
      "cell_type": "markdown",
      "source": [
        "Ponemos los datos obtenidos del ejercicio para verificar."
      ],
      "metadata": {
        "id": "mRoOAirbl7sH"
      }
    },
    {
      "cell_type": "code",
      "source": [
        "A = np.array([\n",
        "    [1, -1/4, -1/4, 0],    # Ecuación de u1\n",
        "    [-1/4, 1, 0, -1/4],    # Ecuación de u2\n",
        "    [-1/4, 0, 1, -1/4],    # Ecuación de u3\n",
        "    [0, -1/4, -1/4, 1]     # Ecuación de u4\n",
        "], dtype=float)\n",
        "\n",
        "\n",
        "b = np.array([\n",
        "    0,        # Constante en ecuación de u1\n",
        "    2/9,      # Constante en ecuación de u2\n",
        "    1/6,      # Constante en ecuación de u3\n",
        "    7/18      # Constante en ecuación de u4\n",
        "], dtype=float)\n",
        "\n",
        "x0 = np.zeros(4) # Aproximación inicial\n",
        "tol = 1e-6   # Tolerancia\n",
        "N = 100      # Número máximo de iteraciones\n",
        "\n",
        "sol, tabla, exito = jacobi(A, b, x0, tol, N)\n",
        "\n",
        "print(\"Resultados:\")\n",
        "print(tabla)\n",
        "\n",
        "if exito:\n",
        "    print(\"\\nConvergió a la solución aproximada en\", len(tabla), \"iteraciones.\")\n",
        "else:\n",
        "    print(\"\\nMáximo de iteraciones alcanzado sin converger.\")\n",
        "\n",
        "print(\"Valores aproximados de u:\", sol)\n"
      ],
      "metadata": {
        "colab": {
          "base_uri": "https://localhost:8080/"
        },
        "id": "ChobqiPqjEB9",
        "outputId": "a72bb505-a3b4-4b51-e837-c15f94149f04"
      },
      "execution_count": 45,
      "outputs": [
        {
          "output_type": "stream",
          "name": "stdout",
          "text": [
            "Resultados:\n",
            "    Iteración        u1        u2        u3        u4         Error\n",
            "0           1  0.000000  0.222222  0.166667  0.388889  3.888889e-01\n",
            "1           2  0.097222  0.319444  0.263889  0.486111  9.722222e-02\n",
            "2           3  0.145833  0.368056  0.312500  0.534722  4.861111e-02\n",
            "3           4  0.170139  0.392361  0.336806  0.559028  2.430556e-02\n",
            "4           5  0.182292  0.404514  0.348958  0.571181  1.215278e-02\n",
            "5           6  0.188368  0.410590  0.355035  0.577257  6.076389e-03\n",
            "6           7  0.191406  0.413628  0.358073  0.580295  3.038194e-03\n",
            "7           8  0.192925  0.415148  0.359592  0.581814  1.519097e-03\n",
            "8           9  0.193685  0.415907  0.360352  0.582574  7.595486e-04\n",
            "9          10  0.194065  0.416287  0.360731  0.582954  3.797743e-04\n",
            "10         11  0.194255  0.416477  0.360921  0.583143  1.898872e-04\n",
            "11         12  0.194350  0.416572  0.361016  0.583238  9.494358e-05\n",
            "12         13  0.194397  0.416619  0.361064  0.583286  4.747179e-05\n",
            "13         14  0.194421  0.416643  0.361087  0.583310  2.373589e-05\n",
            "14         15  0.194433  0.416655  0.361099  0.583321  1.186795e-05\n",
            "15         16  0.194439  0.416661  0.361105  0.583327  5.933974e-06\n",
            "16         17  0.194441  0.416664  0.361108  0.583330  2.966987e-06\n",
            "17         18  0.194443  0.416665  0.361110  0.583332  1.483493e-06\n",
            "18         19  0.194444  0.416666  0.361110  0.583333  7.417467e-07\n",
            "\n",
            "Convergió a la solución aproximada en 19 iteraciones.\n",
            "Valores aproximados de u: [0.1944437  0.41666592 0.36111037 0.58333259]\n"
          ]
        }
      ]
    }
  ]
}