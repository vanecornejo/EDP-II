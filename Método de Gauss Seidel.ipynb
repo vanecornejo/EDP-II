{
  "nbformat": 4,
  "nbformat_minor": 0,
  "metadata": {
    "colab": {
      "provenance": [],
      "authorship_tag": "ABX9TyMT291NE+R+Ji3MprW6ICOD",
      "include_colab_link": true
    },
    "kernelspec": {
      "name": "python3",
      "display_name": "Python 3"
    },
    "language_info": {
      "name": "python"
    }
  },
  "cells": [
    {
      "cell_type": "markdown",
      "metadata": {
        "id": "view-in-github",
        "colab_type": "text"
      },
      "source": [
        "<a href=\"https://colab.research.google.com/github/vanecornejo/EDP-II/blob/main/M%C3%A9todo%20de%20Gauss%20Seidel.ipynb\" target=\"_parent\"><img src=\"https://colab.research.google.com/assets/colab-badge.svg\" alt=\"Open In Colab\"/></a>"
      ]
    },
    {
      "cell_type": "markdown",
      "source": [
        "#**Método de Gauss-Seidel aplicado a la Ecuación de Laplace**\n",
        " El método de Gauss-Seidel es una técnica iterativa para resolver sistemas lineales de la forma:  \n",
        "$$ A x = b $$\n",
        "La idea principal es aproximar la solución empezando desde una estimación inicial y actualizando los valores en cada paso, utilizando los resultados más recientes disponibles.  \n",
        "La fórmula de actualización para el elemento $x_i$ es:\n",
        "\n",
        "$$\n",
        "x_i^{(k+1)} = \\frac{1}{a_{ii}} \\left( b_i - \\sum_{j=1}^{i-1} a_{ij} x_j^{(k+1)} - \\sum_{j=i+1}^{n} a_{ij} x_j^{(k)} \\right)\n",
        "$$\n",
        "\n",
        "\n",
        "## Implementando el problema\n",
        "\n",
        "Implementando el segundo ejercicio del problemario,\n",
        "\n",
        "Queremos aproximar la solución de la ecuación de Laplace:\n",
        "\n",
        "$$ \\nabla^2 u(x,y) = 0 $$\n",
        "\n",
        "con las siguientes condiciones de frontera en la región cuadrada $ 0\\leq x,y \\leq 2 $:  \n",
        "\n",
        "- $ u(0,y) = 0 $  \n",
        "- $ u(2,y) = y(2-y) $, para \\(0 < y < 2\\)  \n",
        "- $ u(x,0) = 0 $  \n",
        "- $ u(x,2) =\n",
        "\\begin{cases}\n",
        "x & \\text{si } 0 < x < 1 \\\\\n",
        "2-x & \\text{si } 1 \\leq x < 2\n",
        "\\end{cases}\n",
        "$\n",
        "\n",
        "El tamaño de la malla es:\n",
        "\n",
        "$$ h = 0.5 $$\n",
        "\n",
        "Esto divide la región en una grilla de 5 × 5 puntos:  \n",
        "\n",
        "$$\n",
        "x = 0, 0.5, 1, 1.5, 2, \\quad y = 0, 0.5, 1, 1.5, 2\n",
        "$$\n",
        "\n",
        "\n",
        "## Ecuación en los puntos interiores\n",
        "\n",
        "Para cada punto interior $(i,j)$, la ecuación de Laplace discretizada se convierte en:\n",
        "\n",
        "$$\n",
        "u_{i,j} = \\frac{1}{4} \\left( u_{i-1,j} + u_{i+1,j} + u_{i,j-1} + u_{i,j+1} \\right)\n",
        "$$\n",
        "\n",
        "Es decir, el valor en un nodo interior es el promedio de sus 4 vecinos.\n",
        "\n",
        "\n",
        "## Solución\n",
        "\n",
        "1. Definimos la malla con $h=0.5$  \n",
        "2. Aplicamos las condiciones de frontera en los bordes\n",
        "3. Inicializamos los valores interiores con ceros\n",
        "4. Usamos el método de Gauss-Seidel para actualizar los valores de los nodos interiores hasta que la solución converja con una tolerancia dada\n",
        "5. Mostramos los resultados en la tabla  "
      ],
      "metadata": {
        "id": "laa-QzOJzjSV"
      }
    },
    {
      "cell_type": "code",
      "source": [
        "# Importamos librerías\n",
        "import numpy as np\n",
        "import pandas as pd"
      ],
      "metadata": {
        "id": "xzrbkB9eKtCX"
      },
      "execution_count": 1,
      "outputs": []
    },
    {
      "cell_type": "markdown",
      "source": [
        "Ponemos los datos de nuestro ejercicio"
      ],
      "metadata": {
        "id": "M3hDQbB0LnwO"
      }
    },
    {
      "cell_type": "code",
      "source": [
        "# Parámetros de la malla\n",
        "h = 0.5\n",
        "n = int(2/h) + 1   # número de puntos en cada eje\n",
        "x = np.linspace(0, 2, n)\n",
        "y = np.linspace(0, 2, n)\n",
        "\n",
        "# Matriz solución inicial\n",
        "U = np.zeros((n, n))\n",
        "\n",
        "# Condiciones de frontera:\n",
        "U[:,0] = 0   # u(0,y)=0\n",
        "U[:,-1] = y*(2-y)   # u(2,y)=y(2-y)\n",
        "U[0,:] = 0   # u(x,0)=0\n",
        "\n",
        "# Para u(x,2) = {x si 0<x<1 ; 2-x si 1<=x<2}\n",
        "for j in range(n):\n",
        "    if x[j] < 1:\n",
        "        U[-1,j] = x[j]\n",
        "    else:\n",
        "        U[-1,j] = 2 - x[j]"
      ],
      "metadata": {
        "id": "7jU2V-mHLXHE"
      },
      "execution_count": 2,
      "outputs": []
    },
    {
      "cell_type": "markdown",
      "source": [
        "Aplicando el Método de Gauss-Seidel"
      ],
      "metadata": {
        "id": "-1JglzI7ODzz"
      }
    },
    {
      "cell_type": "code",
      "source": [
        "tol = 1e-4\n",
        "max_iter = 5000\n",
        "\n",
        "for it in range(max_iter):\n",
        "    error = 0.0\n",
        "    for i in range(1, n-1):\n",
        "        for j in range(1, n-1):\n",
        "            old = U[i,j]\n",
        "            U[i,j] = 0.25 * (U[i-1,j] + U[i+1,j] + U[i,j-1] + U[i,j+1])\n",
        "            error = max(error, abs(U[i,j]-old))\n",
        "    if error < tol:\n",
        "        print(f\"Convergencia alcanzada en {it+1} iteraciones\")\n",
        "        break\n",
        "else:\n",
        "    print(\"Número máximo de iteraciones alcanzado\")\n",
        "\n",
        "df = pd.DataFrame(U, index=[f\"y={yi:.1f}\" for yi in y],\n",
        "                     columns=[f\"x={xi:.1f}\" for xi in x])\n",
        "\n",
        "print(df)"
      ],
      "metadata": {
        "colab": {
          "base_uri": "https://localhost:8080/"
        },
        "id": "QHEUJDv1QQXI",
        "outputId": "d9a168e6-61f6-4167-94e3-65d4cbdb2b0a"
      },
      "execution_count": 3,
      "outputs": [
        {
          "output_type": "stream",
          "name": "stdout",
          "text": [
            "Convergencia alcanzada en 14 iteraciones\n",
            "       x=0.0     x=0.5     x=1.0     x=1.5  x=2.0\n",
            "y=0.0    0.0  0.000000  0.000000  0.000000   0.00\n",
            "y=0.5    0.0  0.109316  0.227619  0.395060   0.75\n",
            "y=1.0    0.0  0.209762  0.406191  0.602649   1.00\n",
            "y=1.5    0.0  0.323631  0.584792  0.609360   0.75\n",
            "y=2.0    0.0  0.500000  1.000000  0.500000   0.00\n"
          ]
        }
      ]
    }
  ]
}